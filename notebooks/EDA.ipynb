{
 "cells": [
  {
   "cell_type": "markdown",
   "id": "5c5f93ca",
   "metadata": {},
   "source": [
    "## **Sales Data Analysis**"
   ]
  },
  {
   "cell_type": "markdown",
   "id": "4ca737dd",
   "metadata": {},
   "source": [
    "### Installing Required Libraries"
   ]
  },
  {
   "cell_type": "code",
   "execution_count": 14,
   "id": "09ad3960",
   "metadata": {},
   "outputs": [],
   "source": [
    "import pandas as pd\n",
    "import numpy as np\n",
    "import matplotlib.pyplot as plt\n",
    "import seaborn as sns"
   ]
  },
  {
   "cell_type": "markdown",
   "id": "a0d686b5",
   "metadata": {},
   "source": [
    "### Dataset\n",
    "\n",
    "#### Sales Dataset\n",
    "\n",
    "Variables\n",
    "\n",
    "-Date: The date the transaction occurred.\n",
    "\n",
    "-Gender: The gender of the customer (e.g., Male or Female).\n",
    "\n",
    "-Age: The age of the customer.\n",
    "\n",
    "-Product Category: The category of the product purchased (e.g., Beauty, Clothing, Electronics).\n",
    "\n",
    "-Quantity: The number of units purchased.\n",
    "\n",
    "-Price per Unit: Price of a single unit of the product.\n",
    "\n",
    "-Total Amount: Total amount spent for that transaction (Quantity × Price per Unit)."
   ]
  },
  {
   "cell_type": "markdown",
   "id": "aa19e023",
   "metadata": {},
   "source": [
    "#### Importing Data"
   ]
  },
  {
   "cell_type": "code",
   "execution_count": 15,
   "id": "827dcf6d",
   "metadata": {},
   "outputs": [
    {
     "data": {
      "text/html": [
       "<div>\n",
       "<style scoped>\n",
       "    .dataframe tbody tr th:only-of-type {\n",
       "        vertical-align: middle;\n",
       "    }\n",
       "\n",
       "    .dataframe tbody tr th {\n",
       "        vertical-align: top;\n",
       "    }\n",
       "\n",
       "    .dataframe thead th {\n",
       "        text-align: right;\n",
       "    }\n",
       "</style>\n",
       "<table border=\"1\" class=\"dataframe\">\n",
       "  <thead>\n",
       "    <tr style=\"text-align: right;\">\n",
       "      <th></th>\n",
       "      <th>Unnamed: 0</th>\n",
       "      <th>Date</th>\n",
       "      <th>Gender</th>\n",
       "      <th>Age</th>\n",
       "      <th>Product Category</th>\n",
       "      <th>Quantity</th>\n",
       "      <th>Price per Unit</th>\n",
       "      <th>Total Amount</th>\n",
       "    </tr>\n",
       "  </thead>\n",
       "  <tbody>\n",
       "    <tr>\n",
       "      <th>0</th>\n",
       "      <td>0</td>\n",
       "      <td>2023-11-24</td>\n",
       "      <td>Male</td>\n",
       "      <td>34</td>\n",
       "      <td>Beauty</td>\n",
       "      <td>3</td>\n",
       "      <td>50</td>\n",
       "      <td>150</td>\n",
       "    </tr>\n",
       "    <tr>\n",
       "      <th>1</th>\n",
       "      <td>1</td>\n",
       "      <td>2023-02-27</td>\n",
       "      <td>Female</td>\n",
       "      <td>26</td>\n",
       "      <td>Clothing</td>\n",
       "      <td>2</td>\n",
       "      <td>500</td>\n",
       "      <td>1000</td>\n",
       "    </tr>\n",
       "    <tr>\n",
       "      <th>2</th>\n",
       "      <td>2</td>\n",
       "      <td>2023-01-13</td>\n",
       "      <td>Male</td>\n",
       "      <td>50</td>\n",
       "      <td>Electronics</td>\n",
       "      <td>1</td>\n",
       "      <td>30</td>\n",
       "      <td>30</td>\n",
       "    </tr>\n",
       "    <tr>\n",
       "      <th>3</th>\n",
       "      <td>3</td>\n",
       "      <td>2023-05-21</td>\n",
       "      <td>Male</td>\n",
       "      <td>37</td>\n",
       "      <td>Clothing</td>\n",
       "      <td>1</td>\n",
       "      <td>500</td>\n",
       "      <td>500</td>\n",
       "    </tr>\n",
       "    <tr>\n",
       "      <th>4</th>\n",
       "      <td>4</td>\n",
       "      <td>2023-05-06</td>\n",
       "      <td>Male</td>\n",
       "      <td>30</td>\n",
       "      <td>Beauty</td>\n",
       "      <td>2</td>\n",
       "      <td>50</td>\n",
       "      <td>100</td>\n",
       "    </tr>\n",
       "  </tbody>\n",
       "</table>\n",
       "</div>"
      ],
      "text/plain": [
       "   Unnamed: 0        Date  Gender  Age Product Category  Quantity  \\\n",
       "0           0  2023-11-24    Male   34           Beauty         3   \n",
       "1           1  2023-02-27  Female   26         Clothing         2   \n",
       "2           2  2023-01-13    Male   50      Electronics         1   \n",
       "3           3  2023-05-21    Male   37         Clothing         1   \n",
       "4           4  2023-05-06    Male   30           Beauty         2   \n",
       "\n",
       "   Price per Unit  Total Amount  \n",
       "0              50           150  \n",
       "1             500          1000  \n",
       "2              30            30  \n",
       "3             500           500  \n",
       "4              50           100  "
      ]
     },
     "execution_count": 15,
     "metadata": {},
     "output_type": "execute_result"
    }
   ],
   "source": [
    "df=pd.read_csv('../dataset/raw/Sales Dataset.csv')\n",
    "df.head()"
   ]
  },
  {
   "cell_type": "markdown",
   "id": "fb051791",
   "metadata": {},
   "source": [
    "Let's verify the column names and the data type of each variable"
   ]
  },
  {
   "cell_type": "code",
   "execution_count": 16,
   "id": "da991776",
   "metadata": {},
   "outputs": [
    {
     "data": {
      "text/plain": [
       "Index(['Unnamed: 0', 'Date', 'Gender', 'Age', 'Product Category', 'Quantity',\n",
       "       'Price per Unit', 'Total Amount'],\n",
       "      dtype='object')"
      ]
     },
     "execution_count": 16,
     "metadata": {},
     "output_type": "execute_result"
    }
   ],
   "source": [
    "df.columns"
   ]
  },
  {
   "cell_type": "code",
   "execution_count": 17,
   "id": "e0a46e89",
   "metadata": {},
   "outputs": [
    {
     "data": {
      "text/plain": [
       "Unnamed: 0           int64\n",
       "Date                object\n",
       "Gender              object\n",
       "Age                  int64\n",
       "Product Category    object\n",
       "Quantity             int64\n",
       "Price per Unit       int64\n",
       "Total Amount         int64\n",
       "dtype: object"
      ]
     },
     "execution_count": 17,
     "metadata": {},
     "output_type": "execute_result"
    }
   ],
   "source": [
    "df.dtypes"
   ]
  },
  {
   "cell_type": "markdown",
   "id": "8a59b500",
   "metadata": {},
   "source": [
    "#### Cleaning Data"
   ]
  },
  {
   "cell_type": "markdown",
   "id": "f8335265",
   "metadata": {},
   "source": [
    "drop column Unnamed: 0, because it is not useful "
   ]
  },
  {
   "cell_type": "code",
   "execution_count": 18,
   "id": "1d74d172",
   "metadata": {},
   "outputs": [
    {
     "data": {
      "text/html": [
       "<div>\n",
       "<style scoped>\n",
       "    .dataframe tbody tr th:only-of-type {\n",
       "        vertical-align: middle;\n",
       "    }\n",
       "\n",
       "    .dataframe tbody tr th {\n",
       "        vertical-align: top;\n",
       "    }\n",
       "\n",
       "    .dataframe thead th {\n",
       "        text-align: right;\n",
       "    }\n",
       "</style>\n",
       "<table border=\"1\" class=\"dataframe\">\n",
       "  <thead>\n",
       "    <tr style=\"text-align: right;\">\n",
       "      <th></th>\n",
       "      <th>Date</th>\n",
       "      <th>Gender</th>\n",
       "      <th>Age</th>\n",
       "      <th>Product Category</th>\n",
       "      <th>Quantity</th>\n",
       "      <th>Price per Unit</th>\n",
       "      <th>Total Amount</th>\n",
       "    </tr>\n",
       "  </thead>\n",
       "  <tbody>\n",
       "    <tr>\n",
       "      <th>0</th>\n",
       "      <td>2023-11-24</td>\n",
       "      <td>Male</td>\n",
       "      <td>34</td>\n",
       "      <td>Beauty</td>\n",
       "      <td>3</td>\n",
       "      <td>50</td>\n",
       "      <td>150</td>\n",
       "    </tr>\n",
       "    <tr>\n",
       "      <th>1</th>\n",
       "      <td>2023-02-27</td>\n",
       "      <td>Female</td>\n",
       "      <td>26</td>\n",
       "      <td>Clothing</td>\n",
       "      <td>2</td>\n",
       "      <td>500</td>\n",
       "      <td>1000</td>\n",
       "    </tr>\n",
       "    <tr>\n",
       "      <th>2</th>\n",
       "      <td>2023-01-13</td>\n",
       "      <td>Male</td>\n",
       "      <td>50</td>\n",
       "      <td>Electronics</td>\n",
       "      <td>1</td>\n",
       "      <td>30</td>\n",
       "      <td>30</td>\n",
       "    </tr>\n",
       "    <tr>\n",
       "      <th>3</th>\n",
       "      <td>2023-05-21</td>\n",
       "      <td>Male</td>\n",
       "      <td>37</td>\n",
       "      <td>Clothing</td>\n",
       "      <td>1</td>\n",
       "      <td>500</td>\n",
       "      <td>500</td>\n",
       "    </tr>\n",
       "    <tr>\n",
       "      <th>4</th>\n",
       "      <td>2023-05-06</td>\n",
       "      <td>Male</td>\n",
       "      <td>30</td>\n",
       "      <td>Beauty</td>\n",
       "      <td>2</td>\n",
       "      <td>50</td>\n",
       "      <td>100</td>\n",
       "    </tr>\n",
       "  </tbody>\n",
       "</table>\n",
       "</div>"
      ],
      "text/plain": [
       "         Date  Gender  Age Product Category  Quantity  Price per Unit  \\\n",
       "0  2023-11-24    Male   34           Beauty         3              50   \n",
       "1  2023-02-27  Female   26         Clothing         2             500   \n",
       "2  2023-01-13    Male   50      Electronics         1              30   \n",
       "3  2023-05-21    Male   37         Clothing         1             500   \n",
       "4  2023-05-06    Male   30           Beauty         2              50   \n",
       "\n",
       "   Total Amount  \n",
       "0           150  \n",
       "1          1000  \n",
       "2            30  \n",
       "3           500  \n",
       "4           100  "
      ]
     },
     "execution_count": 18,
     "metadata": {},
     "output_type": "execute_result"
    }
   ],
   "source": [
    "df.drop(columns=['Unnamed: 0'], inplace=True)\n",
    "df.head()"
   ]
  },
  {
   "cell_type": "markdown",
   "id": "572ab201",
   "metadata": {},
   "source": [
    "Tranform the colummn Date to datetime"
   ]
  },
  {
   "cell_type": "code",
   "execution_count": 19,
   "id": "b1d8995a",
   "metadata": {},
   "outputs": [
    {
     "data": {
      "text/plain": [
       "Date                datetime64[ns]\n",
       "Gender                      object\n",
       "Age                          int64\n",
       "Product Category            object\n",
       "Quantity                     int64\n",
       "Price per Unit               int64\n",
       "Total Amount                 int64\n",
       "dtype: object"
      ]
     },
     "execution_count": 19,
     "metadata": {},
     "output_type": "execute_result"
    }
   ],
   "source": [
    "df['Date']=pd.to_datetime(df['Date'])\n",
    "df.dtypes"
   ]
  },
  {
   "cell_type": "code",
   "execution_count": 20,
   "id": "5477ff94",
   "metadata": {},
   "outputs": [
    {
     "name": "stdout",
     "output_type": "stream",
     "text": [
      "<class 'pandas.core.frame.DataFrame'>\n",
      "RangeIndex: 1000 entries, 0 to 999\n",
      "Data columns (total 7 columns):\n",
      " #   Column            Non-Null Count  Dtype         \n",
      "---  ------            --------------  -----         \n",
      " 0   Date              1000 non-null   datetime64[ns]\n",
      " 1   Gender            1000 non-null   object        \n",
      " 2   Age               1000 non-null   int64         \n",
      " 3   Product Category  1000 non-null   object        \n",
      " 4   Quantity          1000 non-null   int64         \n",
      " 5   Price per Unit    1000 non-null   int64         \n",
      " 6   Total Amount      1000 non-null   int64         \n",
      "dtypes: datetime64[ns](1), int64(4), object(2)\n",
      "memory usage: 163.6 KB\n"
     ]
    }
   ],
   "source": [
    "df.info(memory_usage='deep')"
   ]
  },
  {
   "cell_type": "markdown",
   "id": "d41a3843",
   "metadata": {},
   "source": [
    "Here we can see that the dataframe uses 163.6 kb of memory"
   ]
  },
  {
   "cell_type": "markdown",
   "id": "7ad9e8bf",
   "metadata": {},
   "source": [
    "Here we can see that there is no missing data in the data frame."
   ]
  },
  {
   "cell_type": "markdown",
   "id": "8f7edd72",
   "metadata": {},
   "source": []
  },
  {
   "cell_type": "markdown",
   "id": "6dff055b",
   "metadata": {},
   "source": [
    "### Optimizing data"
   ]
  },
  {
   "cell_type": "markdown",
   "id": "56f8a5e8",
   "metadata": {},
   "source": [
    "Convert columns to smaller types"
   ]
  },
  {
   "cell_type": "code",
   "execution_count": 21,
   "id": "c7b50dd5",
   "metadata": {},
   "outputs": [],
   "source": [
    "df['Age']=df['Age'].astype('int8')\n",
    "df['Quantity']=df['Quantity'].astype('int8')\n",
    "df['Price per Unit']=df['Price per Unit'].astype('float32')\n",
    "df['Total Amount']=df['Total Amount'].astype('float32')"
   ]
  },
  {
   "cell_type": "markdown",
   "id": "fe41f37a",
   "metadata": {},
   "source": [
    "Getting dummy variables"
   ]
  },
  {
   "cell_type": "code",
   "execution_count": 22,
   "id": "e8d48635",
   "metadata": {},
   "outputs": [],
   "source": [
    "dummy_variables=pd.get_dummies(df['Gender'])\n",
    "df=pd.concat([df,dummy_variables], axis=1)\n",
    "df.drop(columns=['Gender'], inplace=True)"
   ]
  },
  {
   "cell_type": "markdown",
   "id": "94536e6a",
   "metadata": {},
   "source": [
    "Change index"
   ]
  },
  {
   "cell_type": "code",
   "execution_count": 23,
   "id": "5c2bec95",
   "metadata": {},
   "outputs": [
    {
     "data": {
      "text/html": [
       "<div>\n",
       "<style scoped>\n",
       "    .dataframe tbody tr th:only-of-type {\n",
       "        vertical-align: middle;\n",
       "    }\n",
       "\n",
       "    .dataframe tbody tr th {\n",
       "        vertical-align: top;\n",
       "    }\n",
       "\n",
       "    .dataframe thead th {\n",
       "        text-align: right;\n",
       "    }\n",
       "</style>\n",
       "<table border=\"1\" class=\"dataframe\">\n",
       "  <thead>\n",
       "    <tr style=\"text-align: right;\">\n",
       "      <th></th>\n",
       "      <th>Age</th>\n",
       "      <th>Product Category</th>\n",
       "      <th>Quantity</th>\n",
       "      <th>Price per Unit</th>\n",
       "      <th>Total Amount</th>\n",
       "      <th>Female</th>\n",
       "      <th>Male</th>\n",
       "    </tr>\n",
       "    <tr>\n",
       "      <th>Date</th>\n",
       "      <th></th>\n",
       "      <th></th>\n",
       "      <th></th>\n",
       "      <th></th>\n",
       "      <th></th>\n",
       "      <th></th>\n",
       "      <th></th>\n",
       "    </tr>\n",
       "  </thead>\n",
       "  <tbody>\n",
       "    <tr>\n",
       "      <th>2023-11-24</th>\n",
       "      <td>34</td>\n",
       "      <td>Beauty</td>\n",
       "      <td>3</td>\n",
       "      <td>50.0</td>\n",
       "      <td>150.0</td>\n",
       "      <td>False</td>\n",
       "      <td>True</td>\n",
       "    </tr>\n",
       "    <tr>\n",
       "      <th>2023-02-27</th>\n",
       "      <td>26</td>\n",
       "      <td>Clothing</td>\n",
       "      <td>2</td>\n",
       "      <td>500.0</td>\n",
       "      <td>1000.0</td>\n",
       "      <td>True</td>\n",
       "      <td>False</td>\n",
       "    </tr>\n",
       "    <tr>\n",
       "      <th>2023-01-13</th>\n",
       "      <td>50</td>\n",
       "      <td>Electronics</td>\n",
       "      <td>1</td>\n",
       "      <td>30.0</td>\n",
       "      <td>30.0</td>\n",
       "      <td>False</td>\n",
       "      <td>True</td>\n",
       "    </tr>\n",
       "    <tr>\n",
       "      <th>2023-05-21</th>\n",
       "      <td>37</td>\n",
       "      <td>Clothing</td>\n",
       "      <td>1</td>\n",
       "      <td>500.0</td>\n",
       "      <td>500.0</td>\n",
       "      <td>False</td>\n",
       "      <td>True</td>\n",
       "    </tr>\n",
       "    <tr>\n",
       "      <th>2023-05-06</th>\n",
       "      <td>30</td>\n",
       "      <td>Beauty</td>\n",
       "      <td>2</td>\n",
       "      <td>50.0</td>\n",
       "      <td>100.0</td>\n",
       "      <td>False</td>\n",
       "      <td>True</td>\n",
       "    </tr>\n",
       "    <tr>\n",
       "      <th>...</th>\n",
       "      <td>...</td>\n",
       "      <td>...</td>\n",
       "      <td>...</td>\n",
       "      <td>...</td>\n",
       "      <td>...</td>\n",
       "      <td>...</td>\n",
       "      <td>...</td>\n",
       "    </tr>\n",
       "    <tr>\n",
       "      <th>2023-05-16</th>\n",
       "      <td>62</td>\n",
       "      <td>Clothing</td>\n",
       "      <td>1</td>\n",
       "      <td>50.0</td>\n",
       "      <td>50.0</td>\n",
       "      <td>False</td>\n",
       "      <td>True</td>\n",
       "    </tr>\n",
       "    <tr>\n",
       "      <th>2023-11-17</th>\n",
       "      <td>52</td>\n",
       "      <td>Beauty</td>\n",
       "      <td>3</td>\n",
       "      <td>30.0</td>\n",
       "      <td>90.0</td>\n",
       "      <td>False</td>\n",
       "      <td>True</td>\n",
       "    </tr>\n",
       "    <tr>\n",
       "      <th>2023-10-29</th>\n",
       "      <td>23</td>\n",
       "      <td>Beauty</td>\n",
       "      <td>4</td>\n",
       "      <td>25.0</td>\n",
       "      <td>100.0</td>\n",
       "      <td>True</td>\n",
       "      <td>False</td>\n",
       "    </tr>\n",
       "    <tr>\n",
       "      <th>2023-12-05</th>\n",
       "      <td>36</td>\n",
       "      <td>Electronics</td>\n",
       "      <td>3</td>\n",
       "      <td>50.0</td>\n",
       "      <td>150.0</td>\n",
       "      <td>True</td>\n",
       "      <td>False</td>\n",
       "    </tr>\n",
       "    <tr>\n",
       "      <th>2023-04-12</th>\n",
       "      <td>47</td>\n",
       "      <td>Electronics</td>\n",
       "      <td>4</td>\n",
       "      <td>30.0</td>\n",
       "      <td>120.0</td>\n",
       "      <td>False</td>\n",
       "      <td>True</td>\n",
       "    </tr>\n",
       "  </tbody>\n",
       "</table>\n",
       "<p>1000 rows × 7 columns</p>\n",
       "</div>"
      ],
      "text/plain": [
       "            Age Product Category  Quantity  Price per Unit  Total Amount  \\\n",
       "Date                                                                       \n",
       "2023-11-24   34           Beauty         3            50.0         150.0   \n",
       "2023-02-27   26         Clothing         2           500.0        1000.0   \n",
       "2023-01-13   50      Electronics         1            30.0          30.0   \n",
       "2023-05-21   37         Clothing         1           500.0         500.0   \n",
       "2023-05-06   30           Beauty         2            50.0         100.0   \n",
       "...         ...              ...       ...             ...           ...   \n",
       "2023-05-16   62         Clothing         1            50.0          50.0   \n",
       "2023-11-17   52           Beauty         3            30.0          90.0   \n",
       "2023-10-29   23           Beauty         4            25.0         100.0   \n",
       "2023-12-05   36      Electronics         3            50.0         150.0   \n",
       "2023-04-12   47      Electronics         4            30.0         120.0   \n",
       "\n",
       "            Female   Male  \n",
       "Date                       \n",
       "2023-11-24   False   True  \n",
       "2023-02-27    True  False  \n",
       "2023-01-13   False   True  \n",
       "2023-05-21   False   True  \n",
       "2023-05-06   False   True  \n",
       "...            ...    ...  \n",
       "2023-05-16   False   True  \n",
       "2023-11-17   False   True  \n",
       "2023-10-29    True  False  \n",
       "2023-12-05    True  False  \n",
       "2023-04-12   False   True  \n",
       "\n",
       "[1000 rows x 7 columns]"
      ]
     },
     "execution_count": 23,
     "metadata": {},
     "output_type": "execute_result"
    }
   ],
   "source": [
    "df.set_index('Date', inplace=True)\n",
    "df"
   ]
  },
  {
   "cell_type": "markdown",
   "id": "cf0efd00",
   "metadata": {},
   "source": []
  },
  {
   "cell_type": "code",
   "execution_count": 24,
   "id": "f77bbe59",
   "metadata": {},
   "outputs": [
    {
     "name": "stdout",
     "output_type": "stream",
     "text": [
      "<class 'pandas.core.frame.DataFrame'>\n",
      "DatetimeIndex: 1000 entries, 2023-11-24 to 2023-04-12\n",
      "Data columns (total 7 columns):\n",
      " #   Column            Non-Null Count  Dtype  \n",
      "---  ------            --------------  -----  \n",
      " 0   Age               1000 non-null   int8   \n",
      " 1   Product Category  1000 non-null   object \n",
      " 2   Quantity          1000 non-null   int8   \n",
      " 3   Price per Unit    1000 non-null   float32\n",
      " 4   Total Amount      1000 non-null   float32\n",
      " 5   Female            1000 non-null   bool   \n",
      " 6   Male              1000 non-null   bool   \n",
      "dtypes: bool(2), float32(2), int8(2), object(1)\n",
      "memory usage: 83.4 KB\n"
     ]
    }
   ],
   "source": [
    "df.info(memory_usage='deep')\n",
    "df.to_csv(\"../dataset/processed/Sales Data.csv\")"
   ]
  },
  {
   "cell_type": "markdown",
   "id": "0b18df06",
   "metadata": {},
   "source": [
    "If we check the memory used again, we can see that it was reduced to 83.4 kb, which is a 49% reduction in memory."
   ]
  },
  {
   "cell_type": "markdown",
   "id": "f1442255",
   "metadata": {},
   "source": [
    "### Display of data"
   ]
  },
  {
   "cell_type": "markdown",
   "id": "50df0bae",
   "metadata": {},
   "source": [
    "Display a barplot with the total the product sales in the Online Store"
   ]
  },
  {
   "cell_type": "code",
   "execution_count": 128,
   "id": "da2f5386",
   "metadata": {},
   "outputs": [
    {
     "data": {
      "image/png": "[encoded data removed]",
      "text/plain": [
       "<Figure size 700x600 with 1 Axes>"
      ]
     },
     "metadata": {},
     "output_type": "display_data"
    }
   ],
   "source": [
    "#group sales by category type\n",
    "df_sales=df[[\"Product Category\", 'Quantity']].groupby(\"Product Category\").sum().reset_index()\n",
    "\n",
    "fig, ax =plt.subplots(figsize=(7, 6))\n",
    "#adding style\n",
    "sns.set_style(\"whitegrid\")\n",
    "ax.spines['top'].set_visible(False)\n",
    "ax.spines['right'].set_visible(False)\n",
    "#creating a color list with the same length the dataframe\n",
    "colors = sns.color_palette(\"muted\", n_colors=len(df_sales))\n",
    "#bar plot\n",
    "bar=ax.bar(df_sales['Product Category'],df_sales['Quantity'],color=colors, label=df_sales['Product Category'])\n",
    "#setting labels and some data for better read\n",
    "ax.set_title('Total of sales by product category', fontsize=12,fontweight='bold')\n",
    "ax.set_xlabel(\"Product Category\")\n",
    "ax.set_ylabel('Quantity sales')\n",
    "ax.bar_label(bar)\n",
    "ax.legend(loc='upper left',fontsize=10, title_fontsize=11, frameon=False)\n",
    "\n",
    "\n",
    "\n",
    "max_index = df_sales[df_sales['Quantity']==max(df_sales['Quantity'])]\n",
    "\n",
    "\n",
    "plt.tight_layout()\n",
    "plt.show()"
   ]
  },
  {
   "cell_type": "markdown",
   "id": "c0c014cb",
   "metadata": {},
   "source": [
    "The bar chart shows the total number of products sold grouped by category. It can be seen that the Clothing category represents the highest sales volume, suggesting greater demand or turnover for this type of product compared to other categories such as Electronics or Beauty.\n",
    "\n",
    "This information can be useful for prioritizing sales strategies, managing inventory, or even adjusting marketing campaigns focused on the most impactful categories."
   ]
  },
  {
   "cell_type": "code",
   "execution_count": null,
   "id": "80c30518",
   "metadata": {},
   "outputs": [],
   "source": []
  },
  {
   "cell_type": "code",
   "execution_count": null,
   "id": "d6999c66",
   "metadata": {},
   "outputs": [],
   "source": []
  },
  {
   "cell_type": "code",
   "execution_count": null,
   "id": "8950591f",
   "metadata": {},
   "outputs": [],
   "source": []
  },
  {
   "cell_type": "code",
   "execution_count": null,
   "id": "80f3b6f3",
   "metadata": {},
   "outputs": [],
   "source": []
  }
 ],
 "metadata": {
  "kernelspec": {
   "display_name": ".env",
   "language": "python",
   "name": "python3"
  },
  "language_info": {
   "codemirror_mode": {
    "name": "ipython",
    "version": 3
   },
   "file_extension": ".py",
   "mimetype": "text/x-python",
   "name": "python",
   "nbconvert_exporter": "python",
   "pygments_lexer": "ipython3",
   "version": "3.11.9"
  }
 },
 "nbformat": 4,
 "nbformat_minor": 5
}
